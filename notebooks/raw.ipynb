{
 "cells": [
  {
   "cell_type": "code",
   "execution_count": 20,
   "metadata": {},
   "outputs": [],
   "source": [
    "import pandas as pd"
   ]
  },
  {
   "cell_type": "code",
   "execution_count": 21,
   "metadata": {},
   "outputs": [
    {
     "data": {
      "text/html": [
       "<div>\n",
       "<style scoped>\n",
       "    .dataframe tbody tr th:only-of-type {\n",
       "        vertical-align: middle;\n",
       "    }\n",
       "\n",
       "    .dataframe tbody tr th {\n",
       "        vertical-align: top;\n",
       "    }\n",
       "\n",
       "    .dataframe thead th {\n",
       "        text-align: right;\n",
       "    }\n",
       "</style>\n",
       "<table border=\"1\" class=\"dataframe\">\n",
       "  <thead>\n",
       "    <tr style=\"text-align: right;\">\n",
       "      <th></th>\n",
       "      <th>id</th>\n",
       "      <th>medexpense</th>\n",
       "      <th>age</th>\n",
       "      <th>dcron</th>\n",
       "      <th>income</th>\n",
       "      <th>plan</th>\n",
       "    </tr>\n",
       "  </thead>\n",
       "  <tbody>\n",
       "    <tr>\n",
       "      <th>0</th>\n",
       "      <td>1</td>\n",
       "      <td>206.84</td>\n",
       "      <td>57</td>\n",
       "      <td>5</td>\n",
       "      <td>57.200001</td>\n",
       "      <td>bronze</td>\n",
       "    </tr>\n",
       "    <tr>\n",
       "      <th>1</th>\n",
       "      <td>2</td>\n",
       "      <td>184.19</td>\n",
       "      <td>67</td>\n",
       "      <td>4</td>\n",
       "      <td>67.199997</td>\n",
       "      <td>bronze</td>\n",
       "    </tr>\n",
       "    <tr>\n",
       "      <th>2</th>\n",
       "      <td>3</td>\n",
       "      <td>175.68</td>\n",
       "      <td>62</td>\n",
       "      <td>4</td>\n",
       "      <td>62.000000</td>\n",
       "      <td>bronze</td>\n",
       "    </tr>\n",
       "    <tr>\n",
       "      <th>3</th>\n",
       "      <td>4</td>\n",
       "      <td>180.04</td>\n",
       "      <td>67</td>\n",
       "      <td>5</td>\n",
       "      <td>67.199997</td>\n",
       "      <td>bronze</td>\n",
       "    </tr>\n",
       "    <tr>\n",
       "      <th>4</th>\n",
       "      <td>5</td>\n",
       "      <td>218.86</td>\n",
       "      <td>68</td>\n",
       "      <td>5</td>\n",
       "      <td>68.000000</td>\n",
       "      <td>bronze</td>\n",
       "    </tr>\n",
       "  </tbody>\n",
       "</table>\n",
       "</div>"
      ],
      "text/plain": [
       "   id  medexpense  age  dcron     income    plan\n",
       "0   1      206.84   57      5  57.200001  bronze\n",
       "1   2      184.19   67      4  67.199997  bronze\n",
       "2   3      175.68   62      4  62.000000  bronze\n",
       "3   4      180.04   67      5  67.199997  bronze\n",
       "4   5      218.86   68      5  68.000000  bronze"
      ]
     },
     "execution_count": 21,
     "metadata": {},
     "output_type": "execute_result"
    }
   ],
   "source": [
    "raw_data = pd.read_csv(\"../data/raw/planosaude.csv\", sep=\",\")\n",
    "raw_data.rename(\n",
    "    columns={\n",
    "        \"despmed\": \"medexpense\",\n",
    "        \"idade\": \"age\",\n",
    "        \"dcron\": \"dcron\",\n",
    "        \"renda\": \"income\",\n",
    "        \"plano\": \"plan\",\n",
    "    },\n",
    "    inplace=True,\n",
    ")\n",
    "raw_data.head()"
   ]
  },
  {
   "cell_type": "code",
   "execution_count": 22,
   "metadata": {},
   "outputs": [
    {
     "name": "stdout",
     "output_type": "stream",
     "text": [
      "<class 'pandas.core.frame.DataFrame'>\n",
      "RangeIndex: 200 entries, 0 to 199\n",
      "Data columns (total 6 columns):\n",
      " #   Column      Non-Null Count  Dtype  \n",
      "---  ------      --------------  -----  \n",
      " 0   id          200 non-null    int64  \n",
      " 1   medexpense  200 non-null    float64\n",
      " 2   age         200 non-null    int64  \n",
      " 3   dcron       200 non-null    int64  \n",
      " 4   income      200 non-null    float64\n",
      " 5   plan        200 non-null    object \n",
      "dtypes: float64(2), int64(3), object(1)\n",
      "memory usage: 9.5+ KB\n"
     ]
    }
   ],
   "source": [
    "raw_data.info()"
   ]
  },
  {
   "cell_type": "code",
   "execution_count": 23,
   "metadata": {},
   "outputs": [
    {
     "data": {
      "text/html": [
       "<div>\n",
       "<style scoped>\n",
       "    .dataframe tbody tr th:only-of-type {\n",
       "        vertical-align: middle;\n",
       "    }\n",
       "\n",
       "    .dataframe tbody tr th {\n",
       "        vertical-align: top;\n",
       "    }\n",
       "\n",
       "    .dataframe thead th {\n",
       "        text-align: right;\n",
       "    }\n",
       "</style>\n",
       "<table border=\"1\" class=\"dataframe\">\n",
       "  <thead>\n",
       "    <tr style=\"text-align: right;\">\n",
       "      <th></th>\n",
       "      <th>id</th>\n",
       "      <th>medexpense</th>\n",
       "      <th>age</th>\n",
       "      <th>dcron</th>\n",
       "      <th>income</th>\n",
       "    </tr>\n",
       "  </thead>\n",
       "  <tbody>\n",
       "    <tr>\n",
       "      <th>count</th>\n",
       "      <td>200.000000</td>\n",
       "      <td>200.000000</td>\n",
       "      <td>200.000000</td>\n",
       "      <td>200.000000</td>\n",
       "      <td>200.000000</td>\n",
       "    </tr>\n",
       "    <tr>\n",
       "      <th>mean</th>\n",
       "      <td>100.500000</td>\n",
       "      <td>161.183400</td>\n",
       "      <td>50.010000</td>\n",
       "      <td>2.705000</td>\n",
       "      <td>50.022000</td>\n",
       "    </tr>\n",
       "    <tr>\n",
       "      <th>std</th>\n",
       "      <td>57.879185</td>\n",
       "      <td>42.447084</td>\n",
       "      <td>12.547794</td>\n",
       "      <td>1.670908</td>\n",
       "      <td>12.626538</td>\n",
       "    </tr>\n",
       "    <tr>\n",
       "      <th>min</th>\n",
       "      <td>1.000000</td>\n",
       "      <td>88.730000</td>\n",
       "      <td>32.000000</td>\n",
       "      <td>0.000000</td>\n",
       "      <td>31.600000</td>\n",
       "    </tr>\n",
       "    <tr>\n",
       "      <th>25%</th>\n",
       "      <td>50.750000</td>\n",
       "      <td>126.140000</td>\n",
       "      <td>38.000000</td>\n",
       "      <td>1.000000</td>\n",
       "      <td>38.000000</td>\n",
       "    </tr>\n",
       "    <tr>\n",
       "      <th>50%</th>\n",
       "      <td>100.500000</td>\n",
       "      <td>155.000000</td>\n",
       "      <td>49.000000</td>\n",
       "      <td>2.000000</td>\n",
       "      <td>48.799999</td>\n",
       "    </tr>\n",
       "    <tr>\n",
       "      <th>75%</th>\n",
       "      <td>150.250000</td>\n",
       "      <td>197.622500</td>\n",
       "      <td>63.000000</td>\n",
       "      <td>4.000000</td>\n",
       "      <td>63.200001</td>\n",
       "    </tr>\n",
       "    <tr>\n",
       "      <th>max</th>\n",
       "      <td>200.000000</td>\n",
       "      <td>269.200000</td>\n",
       "      <td>68.000000</td>\n",
       "      <td>5.000000</td>\n",
       "      <td>68.000000</td>\n",
       "    </tr>\n",
       "  </tbody>\n",
       "</table>\n",
       "</div>"
      ],
      "text/plain": [
       "               id  medexpense         age       dcron      income\n",
       "count  200.000000  200.000000  200.000000  200.000000  200.000000\n",
       "mean   100.500000  161.183400   50.010000    2.705000   50.022000\n",
       "std     57.879185   42.447084   12.547794    1.670908   12.626538\n",
       "min      1.000000   88.730000   32.000000    0.000000   31.600000\n",
       "25%     50.750000  126.140000   38.000000    1.000000   38.000000\n",
       "50%    100.500000  155.000000   49.000000    2.000000   48.799999\n",
       "75%    150.250000  197.622500   63.000000    4.000000   63.200001\n",
       "max    200.000000  269.200000   68.000000    5.000000   68.000000"
      ]
     },
     "execution_count": 23,
     "metadata": {},
     "output_type": "execute_result"
    }
   ],
   "source": [
    "raw_data.describe()"
   ]
  },
  {
   "cell_type": "code",
   "execution_count": 24,
   "metadata": {},
   "outputs": [
    {
     "data": {
      "text/plain": [
       "array(['bronze', 'esmeralda', 'ouro'], dtype=object)"
      ]
     },
     "execution_count": 24,
     "metadata": {},
     "output_type": "execute_result"
    }
   ],
   "source": [
    "raw_data[\"plan\"].unique()"
   ]
  },
  {
   "cell_type": "code",
   "execution_count": 25,
   "metadata": {},
   "outputs": [
    {
     "data": {
      "text/plain": [
       "plan\n",
       "bronze       72\n",
       "esmeralda    66\n",
       "ouro         62\n",
       "Name: count, dtype: int64"
      ]
     },
     "execution_count": 25,
     "metadata": {},
     "output_type": "execute_result"
    }
   ],
   "source": [
    "raw_data[\"plan\"].value_counts()"
   ]
  },
  {
   "cell_type": "code",
   "execution_count": 26,
   "metadata": {},
   "outputs": [],
   "source": [
    "# Converting the plan type from object to category\n",
    "raw_data[\"plan\"] = raw_data[\"plan\"].astype(\"category\")\n",
    "raw_data[\"plan\"] = raw_data[\"plan\"].map(\n",
    "    {\"bronze\": \"bronze\", \"ouro\": \"golden\", \"esmeralda\": \"emerald\"}\n",
    ")"
   ]
  },
  {
   "cell_type": "code",
   "execution_count": 27,
   "metadata": {},
   "outputs": [
    {
     "data": {
      "text/plain": [
       "['bronze', 'emerald', 'golden']\n",
       "Categories (3, object): ['bronze', 'emerald', 'golden']"
      ]
     },
     "execution_count": 27,
     "metadata": {},
     "output_type": "execute_result"
    }
   ],
   "source": [
    "raw_data[\"plan\"].unique()"
   ]
  },
  {
   "cell_type": "code",
   "execution_count": 28,
   "metadata": {},
   "outputs": [],
   "source": [
    "# Creating the dummie variables of plan for perfoming in the regression models\n",
    "raw_data_dummie = pd.get_dummies(raw_data, columns=[\"plan\"], drop_first=True)"
   ]
  },
  {
   "cell_type": "code",
   "execution_count": 29,
   "metadata": {},
   "outputs": [
    {
     "name": "stdout",
     "output_type": "stream",
     "text": [
      "<class 'pandas.core.frame.DataFrame'>\n",
      "RangeIndex: 200 entries, 0 to 199\n",
      "Data columns (total 6 columns):\n",
      " #   Column      Non-Null Count  Dtype   \n",
      "---  ------      --------------  -----   \n",
      " 0   id          200 non-null    int64   \n",
      " 1   medexpense  200 non-null    float64 \n",
      " 2   age         200 non-null    int64   \n",
      " 3   dcron       200 non-null    int64   \n",
      " 4   income      200 non-null    float64 \n",
      " 5   plan        200 non-null    category\n",
      "dtypes: category(1), float64(2), int64(3)\n",
      "memory usage: 8.3 KB\n"
     ]
    }
   ],
   "source": [
    "raw_data.info()"
   ]
  },
  {
   "cell_type": "code",
   "execution_count": 30,
   "metadata": {},
   "outputs": [],
   "source": [
    "raw_data_dummie[\"plan_emerald\"] = raw_data_dummie[\"plan_emerald\"].map(\n",
    "    {True: 1, False: 0}\n",
    ")\n",
    "raw_data_dummie[\"plan_golden\"] = raw_data_dummie[\"plan_golden\"].map(\n",
    "    {True: 1, False: 0}\n",
    ")"
   ]
  },
  {
   "cell_type": "code",
   "execution_count": 31,
   "metadata": {},
   "outputs": [
    {
     "data": {
      "text/html": [
       "<div>\n",
       "<style scoped>\n",
       "    .dataframe tbody tr th:only-of-type {\n",
       "        vertical-align: middle;\n",
       "    }\n",
       "\n",
       "    .dataframe tbody tr th {\n",
       "        vertical-align: top;\n",
       "    }\n",
       "\n",
       "    .dataframe thead th {\n",
       "        text-align: right;\n",
       "    }\n",
       "</style>\n",
       "<table border=\"1\" class=\"dataframe\">\n",
       "  <thead>\n",
       "    <tr style=\"text-align: right;\">\n",
       "      <th></th>\n",
       "      <th>id</th>\n",
       "      <th>medexpense</th>\n",
       "      <th>age</th>\n",
       "      <th>dcron</th>\n",
       "      <th>income</th>\n",
       "      <th>plan_emerald</th>\n",
       "      <th>plan_golden</th>\n",
       "    </tr>\n",
       "  </thead>\n",
       "  <tbody>\n",
       "    <tr>\n",
       "      <th>0</th>\n",
       "      <td>1</td>\n",
       "      <td>206.84</td>\n",
       "      <td>57</td>\n",
       "      <td>5</td>\n",
       "      <td>57.200001</td>\n",
       "      <td>0</td>\n",
       "      <td>0</td>\n",
       "    </tr>\n",
       "    <tr>\n",
       "      <th>1</th>\n",
       "      <td>2</td>\n",
       "      <td>184.19</td>\n",
       "      <td>67</td>\n",
       "      <td>4</td>\n",
       "      <td>67.199997</td>\n",
       "      <td>0</td>\n",
       "      <td>0</td>\n",
       "    </tr>\n",
       "    <tr>\n",
       "      <th>2</th>\n",
       "      <td>3</td>\n",
       "      <td>175.68</td>\n",
       "      <td>62</td>\n",
       "      <td>4</td>\n",
       "      <td>62.000000</td>\n",
       "      <td>0</td>\n",
       "      <td>0</td>\n",
       "    </tr>\n",
       "    <tr>\n",
       "      <th>3</th>\n",
       "      <td>4</td>\n",
       "      <td>180.04</td>\n",
       "      <td>67</td>\n",
       "      <td>5</td>\n",
       "      <td>67.199997</td>\n",
       "      <td>0</td>\n",
       "      <td>0</td>\n",
       "    </tr>\n",
       "    <tr>\n",
       "      <th>4</th>\n",
       "      <td>5</td>\n",
       "      <td>218.86</td>\n",
       "      <td>68</td>\n",
       "      <td>5</td>\n",
       "      <td>68.000000</td>\n",
       "      <td>0</td>\n",
       "      <td>0</td>\n",
       "    </tr>\n",
       "    <tr>\n",
       "      <th>...</th>\n",
       "      <td>...</td>\n",
       "      <td>...</td>\n",
       "      <td>...</td>\n",
       "      <td>...</td>\n",
       "      <td>...</td>\n",
       "      <td>...</td>\n",
       "      <td>...</td>\n",
       "    </tr>\n",
       "    <tr>\n",
       "      <th>195</th>\n",
       "      <td>196</td>\n",
       "      <td>159.02</td>\n",
       "      <td>63</td>\n",
       "      <td>3</td>\n",
       "      <td>63.200001</td>\n",
       "      <td>1</td>\n",
       "      <td>0</td>\n",
       "    </tr>\n",
       "    <tr>\n",
       "      <th>196</th>\n",
       "      <td>197</td>\n",
       "      <td>205.35</td>\n",
       "      <td>64</td>\n",
       "      <td>4</td>\n",
       "      <td>64.000000</td>\n",
       "      <td>0</td>\n",
       "      <td>0</td>\n",
       "    </tr>\n",
       "    <tr>\n",
       "      <th>197</th>\n",
       "      <td>198</td>\n",
       "      <td>133.64</td>\n",
       "      <td>49</td>\n",
       "      <td>4</td>\n",
       "      <td>48.799999</td>\n",
       "      <td>1</td>\n",
       "      <td>0</td>\n",
       "    </tr>\n",
       "    <tr>\n",
       "      <th>198</th>\n",
       "      <td>199</td>\n",
       "      <td>158.73</td>\n",
       "      <td>44</td>\n",
       "      <td>2</td>\n",
       "      <td>44.000000</td>\n",
       "      <td>1</td>\n",
       "      <td>0</td>\n",
       "    </tr>\n",
       "    <tr>\n",
       "      <th>199</th>\n",
       "      <td>200</td>\n",
       "      <td>156.47</td>\n",
       "      <td>50</td>\n",
       "      <td>2</td>\n",
       "      <td>50.400002</td>\n",
       "      <td>1</td>\n",
       "      <td>0</td>\n",
       "    </tr>\n",
       "  </tbody>\n",
       "</table>\n",
       "<p>200 rows × 7 columns</p>\n",
       "</div>"
      ],
      "text/plain": [
       "      id  medexpense  age  dcron     income  plan_emerald  plan_golden\n",
       "0      1      206.84   57      5  57.200001             0            0\n",
       "1      2      184.19   67      4  67.199997             0            0\n",
       "2      3      175.68   62      4  62.000000             0            0\n",
       "3      4      180.04   67      5  67.199997             0            0\n",
       "4      5      218.86   68      5  68.000000             0            0\n",
       "..   ...         ...  ...    ...        ...           ...          ...\n",
       "195  196      159.02   63      3  63.200001             1            0\n",
       "196  197      205.35   64      4  64.000000             0            0\n",
       "197  198      133.64   49      4  48.799999             1            0\n",
       "198  199      158.73   44      2  44.000000             1            0\n",
       "199  200      156.47   50      2  50.400002             1            0\n",
       "\n",
       "[200 rows x 7 columns]"
      ]
     },
     "execution_count": 31,
     "metadata": {},
     "output_type": "execute_result"
    }
   ],
   "source": [
    "raw_data_dummie"
   ]
  },
  {
   "cell_type": "code",
   "execution_count": 32,
   "metadata": {},
   "outputs": [],
   "source": [
    "raw_data_dummie.to_csv(\n",
    "    \"../data/processed/planosaude_processed.csv\", sep=\",\", index=False\n",
    ")"
   ]
  }
 ],
 "metadata": {
  "kernelspec": {
   "display_name": "health-insurance-plan-classification-O_8wbjMW-py3.12",
   "language": "python",
   "name": "python3"
  },
  "language_info": {
   "codemirror_mode": {
    "name": "ipython",
    "version": 3
   },
   "file_extension": ".py",
   "mimetype": "text/x-python",
   "name": "python",
   "nbconvert_exporter": "python",
   "pygments_lexer": "ipython3",
   "version": "3.12.4"
  }
 },
 "nbformat": 4,
 "nbformat_minor": 2
}
